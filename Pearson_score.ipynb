{
 "cells": [
  {
   "cell_type": "code",
   "execution_count": 1,
   "metadata": {},
   "outputs": [],
   "source": [
    "import json\n",
    "import numpy as np\n"
   ]
  },
  {
   "cell_type": "code",
   "execution_count": 2,
   "metadata": {},
   "outputs": [
    {
     "data": {
      "text/plain": [
       "{'David Smith': {'Vertigo': 4,\n",
       "  'Scarface': 4.5,\n",
       "  'Raging Bull': 3.0,\n",
       "  'Goodfellas': 4.5,\n",
       "  'The Apartment': 1.0},\n",
       " 'Brenda Peterson': {'Vertigo': 3.0,\n",
       "  'Scarface': 1.5,\n",
       "  'Raging Bull': 1.0,\n",
       "  'Goodfellas': 2.0,\n",
       "  'The Apartment': 5.0,\n",
       "  'Roman Holiday': 4.5},\n",
       " 'Bill Duffy': {'Vertigo': 4.5,\n",
       "  'Scarface': 5.0,\n",
       "  'Goodfellas': 4.5,\n",
       "  'The Apartment': 1.0},\n",
       " 'Samuel Miller': {'Scarface': 3.5,\n",
       "  'Raging Bull': 5.0,\n",
       "  'The Apartment': 1.0,\n",
       "  'Goodfellas': 5.0,\n",
       "  'Roman Holiday': 1.0},\n",
       " 'Julie Hammel': {'Scarface': 2.5, 'Roman Holiday': 4.5, 'Goodfellas': 3.0},\n",
       " 'Clarissa Jackson': {'Vertigo': 5.0,\n",
       "  'Scarface': 4.5,\n",
       "  'Raging Bull': 4.0,\n",
       "  'Goodfellas': 2.5,\n",
       "  'The Apartment': 1.0,\n",
       "  'Roman Holiday': 1.5},\n",
       " 'Adam Cohen': {'Vertigo': 3.5,\n",
       "  'Scarface': 3.0,\n",
       "  'The Apartment': 1.0,\n",
       "  'Goodfellas': 4.5,\n",
       "  'Roman Holiday': 3.0},\n",
       " 'Chris Duncan': {'The Apartment': 1.5, 'Raging Bull': 4.5}}"
      ]
     },
     "execution_count": 2,
     "metadata": {},
     "output_type": "execute_result"
    }
   ],
   "source": [
    "ratings_file='ratings.json'\n",
    "with open(ratings_file,'r') as f:\n",
    "    dataset=json.loads(f.read())\n",
    "dataset"
   ]
  },
  {
   "cell_type": "code",
   "execution_count": 3,
   "metadata": {},
   "outputs": [
    {
     "name": "stdout",
     "output_type": "stream",
     "text": [
      "dict_keys(['David Smith', 'Brenda Peterson', 'Bill Duffy', 'Samuel Miller', 'Julie Hammel', 'Clarissa Jackson', 'Adam Cohen', 'Chris Duncan'])\n"
     ]
    }
   ],
   "source": [
    "print(dataset.keys())"
   ]
  },
  {
   "cell_type": "code",
   "execution_count": 6,
   "metadata": {},
   "outputs": [
    {
     "data": {
      "text/html": [
       "<div>\n",
       "<style scoped>\n",
       "    .dataframe tbody tr th:only-of-type {\n",
       "        vertical-align: middle;\n",
       "    }\n",
       "\n",
       "    .dataframe tbody tr th {\n",
       "        vertical-align: top;\n",
       "    }\n",
       "\n",
       "    .dataframe thead th {\n",
       "        text-align: right;\n",
       "    }\n",
       "</style>\n",
       "<table border=\"1\" class=\"dataframe\">\n",
       "  <thead>\n",
       "    <tr style=\"text-align: right;\">\n",
       "      <th></th>\n",
       "      <th>David Smith</th>\n",
       "      <th>Brenda Peterson</th>\n",
       "      <th>Bill Duffy</th>\n",
       "      <th>Samuel Miller</th>\n",
       "      <th>Julie Hammel</th>\n",
       "      <th>Clarissa Jackson</th>\n",
       "      <th>Adam Cohen</th>\n",
       "      <th>Chris Duncan</th>\n",
       "    </tr>\n",
       "  </thead>\n",
       "  <tbody>\n",
       "    <tr>\n",
       "      <th>Goodfellas</th>\n",
       "      <td>4.5</td>\n",
       "      <td>2.0</td>\n",
       "      <td>4.5</td>\n",
       "      <td>5.0</td>\n",
       "      <td>3.0</td>\n",
       "      <td>2.5</td>\n",
       "      <td>4.5</td>\n",
       "      <td>NaN</td>\n",
       "    </tr>\n",
       "    <tr>\n",
       "      <th>Raging Bull</th>\n",
       "      <td>3.0</td>\n",
       "      <td>1.0</td>\n",
       "      <td>NaN</td>\n",
       "      <td>5.0</td>\n",
       "      <td>NaN</td>\n",
       "      <td>4.0</td>\n",
       "      <td>NaN</td>\n",
       "      <td>4.5</td>\n",
       "    </tr>\n",
       "    <tr>\n",
       "      <th>Roman Holiday</th>\n",
       "      <td>NaN</td>\n",
       "      <td>4.5</td>\n",
       "      <td>NaN</td>\n",
       "      <td>1.0</td>\n",
       "      <td>4.5</td>\n",
       "      <td>1.5</td>\n",
       "      <td>3.0</td>\n",
       "      <td>NaN</td>\n",
       "    </tr>\n",
       "    <tr>\n",
       "      <th>Scarface</th>\n",
       "      <td>4.5</td>\n",
       "      <td>1.5</td>\n",
       "      <td>5.0</td>\n",
       "      <td>3.5</td>\n",
       "      <td>2.5</td>\n",
       "      <td>4.5</td>\n",
       "      <td>3.0</td>\n",
       "      <td>NaN</td>\n",
       "    </tr>\n",
       "    <tr>\n",
       "      <th>The Apartment</th>\n",
       "      <td>1.0</td>\n",
       "      <td>5.0</td>\n",
       "      <td>1.0</td>\n",
       "      <td>1.0</td>\n",
       "      <td>NaN</td>\n",
       "      <td>1.0</td>\n",
       "      <td>1.0</td>\n",
       "      <td>1.5</td>\n",
       "    </tr>\n",
       "    <tr>\n",
       "      <th>Vertigo</th>\n",
       "      <td>4.0</td>\n",
       "      <td>3.0</td>\n",
       "      <td>4.5</td>\n",
       "      <td>NaN</td>\n",
       "      <td>NaN</td>\n",
       "      <td>5.0</td>\n",
       "      <td>3.5</td>\n",
       "      <td>NaN</td>\n",
       "    </tr>\n",
       "  </tbody>\n",
       "</table>\n",
       "</div>"
      ],
      "text/plain": [
       "               David Smith  Brenda Peterson  Bill Duffy  Samuel Miller  \\\n",
       "Goodfellas             4.5              2.0         4.5            5.0   \n",
       "Raging Bull            3.0              1.0         NaN            5.0   \n",
       "Roman Holiday          NaN              4.5         NaN            1.0   \n",
       "Scarface               4.5              1.5         5.0            3.5   \n",
       "The Apartment          1.0              5.0         1.0            1.0   \n",
       "Vertigo                4.0              3.0         4.5            NaN   \n",
       "\n",
       "               Julie Hammel  Clarissa Jackson  Adam Cohen  Chris Duncan  \n",
       "Goodfellas              3.0               2.5         4.5           NaN  \n",
       "Raging Bull             NaN               4.0         NaN           4.5  \n",
       "Roman Holiday           4.5               1.5         3.0           NaN  \n",
       "Scarface                2.5               4.5         3.0           NaN  \n",
       "The Apartment           NaN               1.0         1.0           1.5  \n",
       "Vertigo                 NaN               5.0         3.5           NaN  "
      ]
     },
     "execution_count": 6,
     "metadata": {},
     "output_type": "execute_result"
    }
   ],
   "source": [
    "import pandas as pd\n",
    "data=pd.DataFrame(dataset)\n",
    "data"
   ]
  },
  {
   "cell_type": "code",
   "execution_count": 4,
   "metadata": {},
   "outputs": [
    {
     "data": {
      "text/plain": [
       "(['David Smith',\n",
       "  'Brenda Peterson',\n",
       "  'Bill Duffy',\n",
       "  'Samuel Miller',\n",
       "  'Julie Hammel',\n",
       "  'Clarissa Jackson',\n",
       "  'Adam Cohen',\n",
       "  'Chris Duncan'],\n",
       " ['Vertigo',\n",
       "  'Scarface',\n",
       "  'Raging Bull',\n",
       "  'Goodfellas',\n",
       "  'The Apartment',\n",
       "  'Roman Holiday'])"
      ]
     },
     "execution_count": 4,
     "metadata": {},
     "output_type": "execute_result"
    }
   ],
   "source": [
    "person=[]\n",
    "movieunique=[]\n",
    "for p_id,p_info in dataset.items():\n",
    "    person.append(p_id)\n",
    "    for key in p_info:\n",
    "        if key not in movieunique:\n",
    "            movieunique.append(key)\n",
    "person,movieunique"
   ]
  },
  {
   "cell_type": "code",
   "execution_count": 8,
   "metadata": {},
   "outputs": [],
   "source": [
    "# Compute the Pearson correlation score between user1 and user2 \n",
    "def pearson_score(dataset, user1, user2):\n",
    "    if user1 not in dataset:\n",
    "        raise TypeError('Cannot find ' + user1 + ' in the dataset')\n",
    "    if user2 not in dataset:\n",
    "        raise TypeError('Cannot find ' + user2 + ' in the dataset')\n",
    "    # Movies rated by both user1 and user2\n",
    "    common_movies = {}\n",
    "    for item in dataset[user1]:\n",
    "        if item in dataset[user2]:\n",
    "            common_movies[item] = 1\n",
    "    num_ratings = len(common_movies)\n",
    "    # If there are no common movies between user1 and user2, then the score is 0 \n",
    "    if num_ratings == 0:\n",
    "        return 0\n",
    "    # Calculate the sum of ratings of all the common movies \n",
    "    user1_sum = np.sum([dataset[user1][item] for item in common_movies])\n",
    "    user2_sum = np.sum([dataset[user2][item] for item in common_movies])\n",
    "    # Calculate the sum of squares of ratings of all the common movies \n",
    "    user1_squared_sum = np.sum([np.square(dataset[user1][item]) for item in common_movies])\n",
    "    user2_squared_sum = np.sum([np.square(dataset[user2][item]) for item in common_movies])\n",
    "    # Calculate the sum of products of the ratings of the common movies\n",
    "    sum_of_products = np.sum([dataset[user1][item] * dataset[user2][item] for item in common_movies])\n",
    "    # Calculate the Pearson correlation score\n",
    "    Sxy = sum_of_products - (user1_sum * user2_sum / num_ratings)\n",
    "    Sxx = user1_squared_sum - np.square(user1_sum) / num_ratings\n",
    "    Syy = user2_squared_sum - np.square(user2_sum) / num_ratings\n",
    "    \n",
    "    if Sxx * Syy == 0:\n",
    "        return 0\n",
    "    return Sxy / np.sqrt(Sxx * Syy)\n"
   ]
  },
  {
   "cell_type": "code",
   "execution_count": 10,
   "metadata": {},
   "outputs": [
    {
     "name": "stdout",
     "output_type": "stream",
     "text": [
      "\n",
      "Pearson Score:\n",
      "0.8292682926829268\n"
     ]
    }
   ],
   "source": [
    "user1=\"Bill Duffy\"\n",
    "user2=\"Clarissa Jackson\"\n",
    "print(\"\\nPearson Score:\")\n",
    "print(pearson_score(dataset,user1,user2))"
   ]
  },
  {
   "cell_type": "code",
   "execution_count": null,
   "metadata": {},
   "outputs": [],
   "source": [
    "input_user=\"Chris Duncan\"\n",
    "for user in [x for x in dataset if x!=input_user]:\n",
    "    similarly_score=pearson_score(dataset,input_user,user)\n",
    "    print(user,similarly_score)"
   ]
  },
  {
   "cell_type": "code",
   "execution_count": null,
   "metadata": {},
   "outputs": [],
   "source": []
  },
  {
   "cell_type": "code",
   "execution_count": null,
   "metadata": {},
   "outputs": [],
   "source": []
  }
 ],
 "metadata": {
  "kernelspec": {
   "display_name": "Python 3",
   "language": "python",
   "name": "python3"
  },
  "language_info": {
   "codemirror_mode": {
    "name": "ipython",
    "version": 3
   },
   "file_extension": ".py",
   "mimetype": "text/x-python",
   "name": "python",
   "nbconvert_exporter": "python",
   "pygments_lexer": "ipython3",
   "version": "3.6.6"
  }
 },
 "nbformat": 4,
 "nbformat_minor": 2
}
